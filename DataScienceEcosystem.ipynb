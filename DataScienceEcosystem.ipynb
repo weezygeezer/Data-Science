{
 "cells": [
  {
   "cell_type": "markdown",
   "id": "9377f75b-1fdd-4da8-b003-5f7cfddeb9f9",
   "metadata": {
    "tags": []
   },
   "source": [
    "# Data Science Tools and Ecosystem"
   ]
  },
  {
   "cell_type": "markdown",
   "id": "88ded27c-cdd9-4828-80d8-c379a8c7b2f6",
   "metadata": {},
   "source": [
    "## Author"
   ]
  },
  {
   "cell_type": "markdown",
   "id": "43c4cc40-d225-4f7a-8527-ffa2becea12e",
   "metadata": {},
   "source": [
    "Matthew A Hernandez"
   ]
  },
  {
   "cell_type": "markdown",
   "id": "b2590583-ad29-43d0-a762-0aae59c9c3eb",
   "metadata": {},
   "source": [
    "Welcome to the data science (DS) notebook. Today you will get a crash course over existing DS tools and examples of its ecosystem. "
   ]
  },
  {
   "cell_type": "markdown",
   "id": "a9a05be7-06d2-4faa-a578-378a75176b40",
   "metadata": {},
   "source": [
    "**Objectives:**\n",
    "- List popular languages for DS\n",
    "- Perform simple arithmetic\n",
    "- Practice using Jupyter Notebooks"
   ]
  },
  {
   "cell_type": "markdown",
   "id": "f1978a39-6bd3-4d84-b56c-2d7c3b88b075",
   "metadata": {},
   "source": [
    "Some of the popular languages that Data Scientists use are:\n",
    "1. Python\n",
    "2. R\n",
    "3. Julia"
   ]
  },
  {
   "cell_type": "markdown",
   "id": "bc1a4d5e-f6d4-41c3-8a3c-8495cac275c8",
   "metadata": {},
   "source": [
    "Some of the commonly used libraries by Data Scientists include:\n",
    "1. TensorFlow\n",
    "2. SciKit-Learn\n",
    "3. Pandas"
   ]
  },
  {
   "cell_type": "markdown",
   "id": "119a14ce-a0b9-4c84-810b-36ad8c0e86ad",
   "metadata": {},
   "source": [
    "|Data Science Tools|\n",
    "--------------------\n",
    "|Git|\n",
    "|RStudio|\n",
    "|Anaconda|"
   ]
  },
  {
   "cell_type": "markdown",
   "id": "73afe19c-9a93-4745-b46e-a330ccc88772",
   "metadata": {
    "tags": []
   },
   "source": [
    "### Below are a few examples of evaluating arithmetic expressions in Python"
   ]
  },
  {
   "cell_type": "markdown",
   "id": "8f2a3aa7-7aa0-4c75-a9d0-585a96979551",
   "metadata": {},
   "source": [
    "This a simple arithmetic expression to mutiply then add integers"
   ]
  },
  {
   "cell_type": "code",
   "execution_count": 1,
   "id": "755aa565-5e24-4a9e-8505-d95078af9a77",
   "metadata": {
    "tags": []
   },
   "outputs": [
    {
     "data": {
      "text/plain": [
       "17"
      ]
     },
     "execution_count": 1,
     "metadata": {},
     "output_type": "execute_result"
    }
   ],
   "source": [
    "(3*4)+5"
   ]
  },
  {
   "cell_type": "markdown",
   "id": "3a0212b1-206d-4e7a-ba71-1c02ed0ddbd9",
   "metadata": {},
   "source": [
    "This will convert 200 minutes to hours by dividing by 60"
   ]
  },
  {
   "cell_type": "code",
   "execution_count": 5,
   "id": "1158efa2-247e-4639-b4f1-fafb6e2ffe2c",
   "metadata": {
    "tags": []
   },
   "outputs": [
    {
     "data": {
      "text/plain": [
       "3.3333333333333335"
      ]
     },
     "execution_count": 5,
     "metadata": {},
     "output_type": "execute_result"
    }
   ],
   "source": [
    "200 / 60"
   ]
  },
  {
   "cell_type": "code",
   "execution_count": null,
   "id": "5fa5c558-18d8-4d25-9923-c2a4e8b26af5",
   "metadata": {},
   "outputs": [],
   "source": []
  }
 ],
 "metadata": {
  "kernelspec": {
   "display_name": "Python",
   "language": "python",
   "name": "conda-env-python-py"
  },
  "language_info": {
   "codemirror_mode": {
    "name": "ipython",
    "version": 3
   },
   "file_extension": ".py",
   "mimetype": "text/x-python",
   "name": "python",
   "nbconvert_exporter": "python",
   "pygments_lexer": "ipython3",
   "version": "3.7.12"
  }
 },
 "nbformat": 4,
 "nbformat_minor": 5
}
